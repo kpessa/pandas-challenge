{
 "cells": [
  {
   "cell_type": "markdown",
   "metadata": {},
   "source": [
    "## Option 1: Heroes of Pymoli"
   ]
  },
  {
   "cell_type": "code",
   "execution_count": 5,
   "metadata": {},
   "outputs": [],
   "source": [
    "import pandas as pd\n",
    "import os\n",
    "import numpy as np\n",
    "\n",
    "df = pd.read_csv(os.path.join(\"Resources\",\"purchase_data.csv\"))"
   ]
  },
  {
   "cell_type": "markdown",
   "metadata": {},
   "source": [
    "---------\n",
    "### 1. Player Count\n",
    "* Total Number of Players"
   ]
  },
  {
   "cell_type": "code",
   "execution_count": 6,
   "metadata": {},
   "outputs": [
    {
     "data": {
      "text/html": [
       "<div>\n",
       "<style scoped>\n",
       "    .dataframe tbody tr th:only-of-type {\n",
       "        vertical-align: middle;\n",
       "    }\n",
       "\n",
       "    .dataframe tbody tr th {\n",
       "        vertical-align: top;\n",
       "    }\n",
       "\n",
       "    .dataframe thead th {\n",
       "        text-align: right;\n",
       "    }\n",
       "</style>\n",
       "<table border=\"1\" class=\"dataframe\">\n",
       "  <thead>\n",
       "    <tr style=\"text-align: right;\">\n",
       "      <th></th>\n",
       "      <th>Total Players</th>\n",
       "    </tr>\n",
       "  </thead>\n",
       "  <tbody>\n",
       "    <tr>\n",
       "      <th>0</th>\n",
       "      <td>576</td>\n",
       "    </tr>\n",
       "  </tbody>\n",
       "</table>\n",
       "</div>"
      ],
      "text/plain": [
       "   Total Players\n",
       "0            576"
      ]
     },
     "execution_count": 6,
     "metadata": {},
     "output_type": "execute_result"
    }
   ],
   "source": [
    "pd.DataFrame({\n",
    "    \"Total Players\": [len(df.SN.unique())]\n",
    "})"
   ]
  },
  {
   "cell_type": "markdown",
   "metadata": {},
   "source": [
    "## Purchasing Analysis (Total)\n",
    "---"
   ]
  },
  {
   "cell_type": "markdown",
   "metadata": {},
   "source": [
    "* Run basic calculations to obtain number of unique items, average price, etc."
   ]
  },
  {
   "cell_type": "code",
   "execution_count": 8,
   "metadata": {},
   "outputs": [],
   "source": [
    "unique_items = len(df['Item ID'].unique())\n",
    "average_price = f\"${df.Price.mean():.2f}\"\n",
    "number_of_purchases = len(df['Purchase ID'].unique())\n",
    "total_revenue = f\"${df.Price.sum():,.2f}\""
   ]
  },
  {
   "cell_type": "markdown",
   "metadata": {},
   "source": [
    "* Create a summary data frame to hold the results"
   ]
  },
  {
   "cell_type": "code",
   "execution_count": 9,
   "metadata": {},
   "outputs": [],
   "source": [
    "summary_df = pd.DataFrame({\n",
    "    \"Number of Unique Items\":[unique_items],\n",
    "    \"Average Price\": [average_price],\n",
    "    \"Number of Purchases\": [number_of_purchases],\n",
    "    \"Total Revenue\": [total_revenue]\n",
    "})"
   ]
  },
  {
   "cell_type": "markdown",
   "metadata": {},
   "source": [
    "* Optional: give the displayed data cleaner formatting\n",
    "* Display the summary data frame"
   ]
  },
  {
   "cell_type": "code",
   "execution_count": 10,
   "metadata": {},
   "outputs": [
    {
     "data": {
      "text/html": [
       "<div>\n",
       "<style scoped>\n",
       "    .dataframe tbody tr th:only-of-type {\n",
       "        vertical-align: middle;\n",
       "    }\n",
       "\n",
       "    .dataframe tbody tr th {\n",
       "        vertical-align: top;\n",
       "    }\n",
       "\n",
       "    .dataframe thead th {\n",
       "        text-align: right;\n",
       "    }\n",
       "</style>\n",
       "<table border=\"1\" class=\"dataframe\">\n",
       "  <thead>\n",
       "    <tr style=\"text-align: right;\">\n",
       "      <th></th>\n",
       "      <th>Number of Unique Items</th>\n",
       "      <th>Average Price</th>\n",
       "      <th>Number of Purchases</th>\n",
       "      <th>Total Revenue</th>\n",
       "    </tr>\n",
       "  </thead>\n",
       "  <tbody>\n",
       "    <tr>\n",
       "      <th>0</th>\n",
       "      <td>179</td>\n",
       "      <td>$3.05</td>\n",
       "      <td>780</td>\n",
       "      <td>$2,379.77</td>\n",
       "    </tr>\n",
       "  </tbody>\n",
       "</table>\n",
       "</div>"
      ],
      "text/plain": [
       "   Number of Unique Items Average Price  Number of Purchases Total Revenue\n",
       "0                     179         $3.05                  780     $2,379.77"
      ]
     },
     "execution_count": 10,
     "metadata": {},
     "output_type": "execute_result"
    }
   ],
   "source": [
    "summary_df"
   ]
  },
  {
   "cell_type": "markdown",
   "metadata": {},
   "source": [
    "---\n",
    "### 3. Gender Demographics\n",
    "---\n",
    "* Percentage and Count of Male Players\n",
    "* Percentage and Count of Female Players\n",
    "* Percentage and Count of Other / Non-Disclosed"
   ]
  },
  {
   "cell_type": "code",
   "execution_count": 11,
   "metadata": {},
   "outputs": [
    {
     "data": {
      "text/html": [
       "<div>\n",
       "<style scoped>\n",
       "    .dataframe tbody tr th:only-of-type {\n",
       "        vertical-align: middle;\n",
       "    }\n",
       "\n",
       "    .dataframe tbody tr th {\n",
       "        vertical-align: top;\n",
       "    }\n",
       "\n",
       "    .dataframe thead th {\n",
       "        text-align: right;\n",
       "    }\n",
       "</style>\n",
       "<table border=\"1\" class=\"dataframe\">\n",
       "  <thead>\n",
       "    <tr style=\"text-align: right;\">\n",
       "      <th></th>\n",
       "      <th>Total Count</th>\n",
       "      <th>Percentage of Players</th>\n",
       "    </tr>\n",
       "  </thead>\n",
       "  <tbody>\n",
       "    <tr>\n",
       "      <th>Male</th>\n",
       "      <td>484</td>\n",
       "      <td>84.03%</td>\n",
       "    </tr>\n",
       "    <tr>\n",
       "      <th>Female</th>\n",
       "      <td>81</td>\n",
       "      <td>14.06%</td>\n",
       "    </tr>\n",
       "    <tr>\n",
       "      <th>Other / Non-Disclosed</th>\n",
       "      <td>11</td>\n",
       "      <td>1.91%</td>\n",
       "    </tr>\n",
       "  </tbody>\n",
       "</table>\n",
       "</div>"
      ],
      "text/plain": [
       "                       Total Count Percentage of Players\n",
       "Male                           484                84.03%\n",
       "Female                          81                14.06%\n",
       "Other / Non-Disclosed           11                 1.91%"
      ]
     },
     "execution_count": 11,
     "metadata": {},
     "output_type": "execute_result"
    }
   ],
   "source": [
    "df_gender = df.drop_duplicates(subset=\"SN\").groupby('Gender').count().SN.to_frame().rename(columns={'SN':'Total Count'})\n",
    "total = df_gender['Total Count'].sum()\n",
    "df_gender['Percentage of Players'] = df_gender.apply(lambda x: f\"{x['Total Count']/total*100:.2f}%\", axis=1)\n",
    "df_gender.sort_values(by=\"Total Count\",ascending=False, inplace=True)\n",
    "df_gender.rename_axis(None, axis=0, inplace=True)\n",
    "df_gender"
   ]
  },
  {
   "cell_type": "markdown",
   "metadata": {},
   "source": [
    "---\n",
    "### 4. Purchasing Analysis (Gender)\n",
    "---\n",
    "- The below each broken by gender\n",
    "    - Purchase Count\n",
    "    - Average Purchase Price\n",
    "    - Total Purchase Value\n",
    "    - Average Purchase Total per Person by Gender"
   ]
  },
  {
   "cell_type": "code",
   "execution_count": 12,
   "metadata": {},
   "outputs": [
    {
     "data": {
      "text/html": [
       "<style  type=\"text/css\" >\n",
       "</style><table id=\"T_6c95c498_1ac8_11eb_b758_001a7dda7113\" ><thead>    <tr>        <th class=\"blank level0\" ></th>        <th class=\"col_heading level0 col0\" >Purchase Count</th>        <th class=\"col_heading level0 col1\" >Average Purchase Price</th>        <th class=\"col_heading level0 col2\" >Total Purchase Value</th>        <th class=\"col_heading level0 col3\" >Avg Total Purchase per Person</th>    </tr>    <tr>        <th class=\"index_name level0\" >Gender</th>        <th class=\"blank\" ></th>        <th class=\"blank\" ></th>        <th class=\"blank\" ></th>        <th class=\"blank\" ></th>    </tr></thead><tbody>\n",
       "                <tr>\n",
       "                        <th id=\"T_6c95c498_1ac8_11eb_b758_001a7dda7113level0_row0\" class=\"row_heading level0 row0\" >Female</th>\n",
       "                        <td id=\"T_6c95c498_1ac8_11eb_b758_001a7dda7113row0_col0\" class=\"data row0 col0\" >113</td>\n",
       "                        <td id=\"T_6c95c498_1ac8_11eb_b758_001a7dda7113row0_col1\" class=\"data row0 col1\" >$3.20</td>\n",
       "                        <td id=\"T_6c95c498_1ac8_11eb_b758_001a7dda7113row0_col2\" class=\"data row0 col2\" >$361.94</td>\n",
       "                        <td id=\"T_6c95c498_1ac8_11eb_b758_001a7dda7113row0_col3\" class=\"data row0 col3\" >$4.47</td>\n",
       "            </tr>\n",
       "            <tr>\n",
       "                        <th id=\"T_6c95c498_1ac8_11eb_b758_001a7dda7113level0_row1\" class=\"row_heading level0 row1\" >Male</th>\n",
       "                        <td id=\"T_6c95c498_1ac8_11eb_b758_001a7dda7113row1_col0\" class=\"data row1 col0\" >652</td>\n",
       "                        <td id=\"T_6c95c498_1ac8_11eb_b758_001a7dda7113row1_col1\" class=\"data row1 col1\" >$3.02</td>\n",
       "                        <td id=\"T_6c95c498_1ac8_11eb_b758_001a7dda7113row1_col2\" class=\"data row1 col2\" >$1,967.64</td>\n",
       "                        <td id=\"T_6c95c498_1ac8_11eb_b758_001a7dda7113row1_col3\" class=\"data row1 col3\" >$4.07</td>\n",
       "            </tr>\n",
       "            <tr>\n",
       "                        <th id=\"T_6c95c498_1ac8_11eb_b758_001a7dda7113level0_row2\" class=\"row_heading level0 row2\" >Other / Non-Disclosed</th>\n",
       "                        <td id=\"T_6c95c498_1ac8_11eb_b758_001a7dda7113row2_col0\" class=\"data row2 col0\" >15</td>\n",
       "                        <td id=\"T_6c95c498_1ac8_11eb_b758_001a7dda7113row2_col1\" class=\"data row2 col1\" >$3.35</td>\n",
       "                        <td id=\"T_6c95c498_1ac8_11eb_b758_001a7dda7113row2_col2\" class=\"data row2 col2\" >$50.19</td>\n",
       "                        <td id=\"T_6c95c498_1ac8_11eb_b758_001a7dda7113row2_col3\" class=\"data row2 col3\" >$4.56</td>\n",
       "            </tr>\n",
       "    </tbody></table>"
      ],
      "text/plain": [
       "<pandas.io.formats.style.Styler at 0x1cc8e525320>"
      ]
     },
     "execution_count": 12,
     "metadata": {},
     "output_type": "execute_result"
    }
   ],
   "source": [
    "genderGrp = df.groupby('Gender')\n",
    "pd.DataFrame({\n",
    "    'Purchase Count': genderGrp.count()['Purchase ID'],\n",
    "    'Average Purchase Price': genderGrp.mean().Price,\n",
    "    'Total Purchase Value': genderGrp.sum().Price,\n",
    "    'Avg Total Purchase per Person': genderGrp.sum().Price/df_gender['Total Count']\n",
    "}).style.format({\n",
    "    'Average Purchase Price': '${:.2f}',\n",
    "    'Total Purchase Value': '${:,.2f}',\n",
    "    'Avg Total Purchase per Person': '${:.2f}'\n",
    "})"
   ]
  },
  {
   "cell_type": "markdown",
   "metadata": {},
   "source": [
    "---\n",
    "### 5. Age Demographics\n",
    "* Establish bins for ages\n",
    "* Categorize the existing players using the age bins. Hint: use pd.cut()\n",
    "* Calculate the numbers and percentages by age group\n",
    "* Create a summary data frame to hold the results\n",
    "* Optional: round the percentage column to two decimal points\n",
    "* Display Age Demographics Table\n",
    "---"
   ]
  },
  {
   "cell_type": "code",
   "execution_count": 15,
   "metadata": {},
   "outputs": [
    {
     "data": {
      "text/html": [
       "<div>\n",
       "<style scoped>\n",
       "    .dataframe tbody tr th:only-of-type {\n",
       "        vertical-align: middle;\n",
       "    }\n",
       "\n",
       "    .dataframe tbody tr th {\n",
       "        vertical-align: top;\n",
       "    }\n",
       "\n",
       "    .dataframe thead th {\n",
       "        text-align: right;\n",
       "    }\n",
       "</style>\n",
       "<table border=\"1\" class=\"dataframe\">\n",
       "  <thead>\n",
       "    <tr style=\"text-align: right;\">\n",
       "      <th></th>\n",
       "      <th>Total Count</th>\n",
       "      <th>Percentage of Players</th>\n",
       "    </tr>\n",
       "    <tr>\n",
       "      <th>Age Ranges</th>\n",
       "      <th></th>\n",
       "      <th></th>\n",
       "    </tr>\n",
       "  </thead>\n",
       "  <tbody>\n",
       "    <tr>\n",
       "      <th>&lt;10</th>\n",
       "      <td>17</td>\n",
       "      <td>2.95%</td>\n",
       "    </tr>\n",
       "    <tr>\n",
       "      <th>10-14</th>\n",
       "      <td>22</td>\n",
       "      <td>3.82%</td>\n",
       "    </tr>\n",
       "    <tr>\n",
       "      <th>15-19</th>\n",
       "      <td>107</td>\n",
       "      <td>18.58%</td>\n",
       "    </tr>\n",
       "    <tr>\n",
       "      <th>20-24</th>\n",
       "      <td>258</td>\n",
       "      <td>44.79%</td>\n",
       "    </tr>\n",
       "    <tr>\n",
       "      <th>25-29</th>\n",
       "      <td>77</td>\n",
       "      <td>13.37%</td>\n",
       "    </tr>\n",
       "    <tr>\n",
       "      <th>30-34</th>\n",
       "      <td>52</td>\n",
       "      <td>9.03%</td>\n",
       "    </tr>\n",
       "    <tr>\n",
       "      <th>35-39</th>\n",
       "      <td>31</td>\n",
       "      <td>5.38%</td>\n",
       "    </tr>\n",
       "    <tr>\n",
       "      <th>40+</th>\n",
       "      <td>12</td>\n",
       "      <td>2.08%</td>\n",
       "    </tr>\n",
       "  </tbody>\n",
       "</table>\n",
       "</div>"
      ],
      "text/plain": [
       "            Total Count Percentage of Players\n",
       "Age Ranges                                   \n",
       "<10                  17                 2.95%\n",
       "10-14                22                 3.82%\n",
       "15-19               107                18.58%\n",
       "20-24               258                44.79%\n",
       "25-29                77                13.37%\n",
       "30-34                52                 9.03%\n",
       "35-39                31                 5.38%\n",
       "40+                  12                 2.08%"
      ]
     },
     "execution_count": 15,
     "metadata": {},
     "output_type": "execute_result"
    }
   ],
   "source": [
    "bins = pd.IntervalIndex.from_tuples([(0,9),(9,14),(14,19),(19,24),(24,29),(29,34),(34,39),(39,50)])\n",
    "df['bins'] = pd.cut(df.Age,bins=bins)\n",
    "ageGrp = df.drop_duplicates('SN').groupby('bins')\n",
    "total_count = ageGrp.count().SN\n",
    "perc_players = total_count / total_count.sum()*100\n",
    "age_demographics = pd.DataFrame({\n",
    "    'Total Count': total_count,\n",
    "    'Percentage of Players': perc_players.apply(lambda x: f\"{x:.2f}%\"),\n",
    "    'Age Ranges': ['<10','10-14','15-19','20-24','25-29','30-34','35-39','40+']\n",
    "}).set_index('Age Ranges')\n",
    "age_demographics"
   ]
  },
  {
   "cell_type": "markdown",
   "metadata": {},
   "source": [
    "---\n",
    "## Purchasing Analysis (Age)\n",
    "---\n",
    "* Bin the purchase_data data frame by age\n",
    "* Run basic calculations to obtain purchase count, avg. purchase price, avg. purchase total per person etc. in the table below\n",
    "* Create a summary data frame to hold the results\n",
    "* Optional: give the displayed data cleaner formatting\n",
    "* Display the summary data frame\n",
    "---\n",
    "* The below each broken into bins of 4 years (i.e. <10, 10-14, 15-19, etc.)\n",
    "    * Purchase Count\n",
    "    * Average Purchase Price\n",
    "    * Total Purchase Value\n",
    "    * Average Purchase Total per Person by Age Group"
   ]
  },
  {
   "cell_type": "code",
   "execution_count": 18,
   "metadata": {},
   "outputs": [
    {
     "data": {
      "text/html": [
       "<style  type=\"text/css\" >\n",
       "</style><table id=\"T_9d181c5a_1ac9_11eb_a1a5_001a7dda7113\" ><thead>    <tr>        <th class=\"blank level0\" ></th>        <th class=\"col_heading level0 col0\" >Purchase Count</th>        <th class=\"col_heading level0 col1\" >Average Purchase Price</th>        <th class=\"col_heading level0 col2\" >Total Purchase Value</th>        <th class=\"col_heading level0 col3\" >Avg Total Purchase per Person</th>    </tr>    <tr>        <th class=\"index_name level0\" >Age Ranges</th>        <th class=\"blank\" ></th>        <th class=\"blank\" ></th>        <th class=\"blank\" ></th>        <th class=\"blank\" ></th>    </tr></thead><tbody>\n",
       "                <tr>\n",
       "                        <th id=\"T_9d181c5a_1ac9_11eb_a1a5_001a7dda7113level0_row0\" class=\"row_heading level0 row0\" ><10</th>\n",
       "                        <td id=\"T_9d181c5a_1ac9_11eb_a1a5_001a7dda7113row0_col0\" class=\"data row0 col0\" >23</td>\n",
       "                        <td id=\"T_9d181c5a_1ac9_11eb_a1a5_001a7dda7113row0_col1\" class=\"data row0 col1\" >$3.35</td>\n",
       "                        <td id=\"T_9d181c5a_1ac9_11eb_a1a5_001a7dda7113row0_col2\" class=\"data row0 col2\" >$77.13</td>\n",
       "                        <td id=\"T_9d181c5a_1ac9_11eb_a1a5_001a7dda7113row0_col3\" class=\"data row0 col3\" >$4.54</td>\n",
       "            </tr>\n",
       "            <tr>\n",
       "                        <th id=\"T_9d181c5a_1ac9_11eb_a1a5_001a7dda7113level0_row1\" class=\"row_heading level0 row1\" >10-14</th>\n",
       "                        <td id=\"T_9d181c5a_1ac9_11eb_a1a5_001a7dda7113row1_col0\" class=\"data row1 col0\" >28</td>\n",
       "                        <td id=\"T_9d181c5a_1ac9_11eb_a1a5_001a7dda7113row1_col1\" class=\"data row1 col1\" >$2.96</td>\n",
       "                        <td id=\"T_9d181c5a_1ac9_11eb_a1a5_001a7dda7113row1_col2\" class=\"data row1 col2\" >$82.78</td>\n",
       "                        <td id=\"T_9d181c5a_1ac9_11eb_a1a5_001a7dda7113row1_col3\" class=\"data row1 col3\" >$3.76</td>\n",
       "            </tr>\n",
       "            <tr>\n",
       "                        <th id=\"T_9d181c5a_1ac9_11eb_a1a5_001a7dda7113level0_row2\" class=\"row_heading level0 row2\" >15-19</th>\n",
       "                        <td id=\"T_9d181c5a_1ac9_11eb_a1a5_001a7dda7113row2_col0\" class=\"data row2 col0\" >136</td>\n",
       "                        <td id=\"T_9d181c5a_1ac9_11eb_a1a5_001a7dda7113row2_col1\" class=\"data row2 col1\" >$3.04</td>\n",
       "                        <td id=\"T_9d181c5a_1ac9_11eb_a1a5_001a7dda7113row2_col2\" class=\"data row2 col2\" >$412.89</td>\n",
       "                        <td id=\"T_9d181c5a_1ac9_11eb_a1a5_001a7dda7113row2_col3\" class=\"data row2 col3\" >$3.86</td>\n",
       "            </tr>\n",
       "            <tr>\n",
       "                        <th id=\"T_9d181c5a_1ac9_11eb_a1a5_001a7dda7113level0_row3\" class=\"row_heading level0 row3\" >20-24</th>\n",
       "                        <td id=\"T_9d181c5a_1ac9_11eb_a1a5_001a7dda7113row3_col0\" class=\"data row3 col0\" >365</td>\n",
       "                        <td id=\"T_9d181c5a_1ac9_11eb_a1a5_001a7dda7113row3_col1\" class=\"data row3 col1\" >$3.05</td>\n",
       "                        <td id=\"T_9d181c5a_1ac9_11eb_a1a5_001a7dda7113row3_col2\" class=\"data row3 col2\" >$1,114.06</td>\n",
       "                        <td id=\"T_9d181c5a_1ac9_11eb_a1a5_001a7dda7113row3_col3\" class=\"data row3 col3\" >$4.32</td>\n",
       "            </tr>\n",
       "            <tr>\n",
       "                        <th id=\"T_9d181c5a_1ac9_11eb_a1a5_001a7dda7113level0_row4\" class=\"row_heading level0 row4\" >25-29</th>\n",
       "                        <td id=\"T_9d181c5a_1ac9_11eb_a1a5_001a7dda7113row4_col0\" class=\"data row4 col0\" >101</td>\n",
       "                        <td id=\"T_9d181c5a_1ac9_11eb_a1a5_001a7dda7113row4_col1\" class=\"data row4 col1\" >$2.90</td>\n",
       "                        <td id=\"T_9d181c5a_1ac9_11eb_a1a5_001a7dda7113row4_col2\" class=\"data row4 col2\" >$293.00</td>\n",
       "                        <td id=\"T_9d181c5a_1ac9_11eb_a1a5_001a7dda7113row4_col3\" class=\"data row4 col3\" >$3.81</td>\n",
       "            </tr>\n",
       "            <tr>\n",
       "                        <th id=\"T_9d181c5a_1ac9_11eb_a1a5_001a7dda7113level0_row5\" class=\"row_heading level0 row5\" >30-34</th>\n",
       "                        <td id=\"T_9d181c5a_1ac9_11eb_a1a5_001a7dda7113row5_col0\" class=\"data row5 col0\" >73</td>\n",
       "                        <td id=\"T_9d181c5a_1ac9_11eb_a1a5_001a7dda7113row5_col1\" class=\"data row5 col1\" >$2.93</td>\n",
       "                        <td id=\"T_9d181c5a_1ac9_11eb_a1a5_001a7dda7113row5_col2\" class=\"data row5 col2\" >$214.00</td>\n",
       "                        <td id=\"T_9d181c5a_1ac9_11eb_a1a5_001a7dda7113row5_col3\" class=\"data row5 col3\" >$4.12</td>\n",
       "            </tr>\n",
       "            <tr>\n",
       "                        <th id=\"T_9d181c5a_1ac9_11eb_a1a5_001a7dda7113level0_row6\" class=\"row_heading level0 row6\" >35-39</th>\n",
       "                        <td id=\"T_9d181c5a_1ac9_11eb_a1a5_001a7dda7113row6_col0\" class=\"data row6 col0\" >41</td>\n",
       "                        <td id=\"T_9d181c5a_1ac9_11eb_a1a5_001a7dda7113row6_col1\" class=\"data row6 col1\" >$3.60</td>\n",
       "                        <td id=\"T_9d181c5a_1ac9_11eb_a1a5_001a7dda7113row6_col2\" class=\"data row6 col2\" >$147.67</td>\n",
       "                        <td id=\"T_9d181c5a_1ac9_11eb_a1a5_001a7dda7113row6_col3\" class=\"data row6 col3\" >$4.76</td>\n",
       "            </tr>\n",
       "            <tr>\n",
       "                        <th id=\"T_9d181c5a_1ac9_11eb_a1a5_001a7dda7113level0_row7\" class=\"row_heading level0 row7\" >40+</th>\n",
       "                        <td id=\"T_9d181c5a_1ac9_11eb_a1a5_001a7dda7113row7_col0\" class=\"data row7 col0\" >13</td>\n",
       "                        <td id=\"T_9d181c5a_1ac9_11eb_a1a5_001a7dda7113row7_col1\" class=\"data row7 col1\" >$2.94</td>\n",
       "                        <td id=\"T_9d181c5a_1ac9_11eb_a1a5_001a7dda7113row7_col2\" class=\"data row7 col2\" >$38.24</td>\n",
       "                        <td id=\"T_9d181c5a_1ac9_11eb_a1a5_001a7dda7113row7_col3\" class=\"data row7 col3\" >$3.19</td>\n",
       "            </tr>\n",
       "    </tbody></table>"
      ],
      "text/plain": [
       "<pandas.io.formats.style.Styler at 0x1cc90152438>"
      ]
     },
     "execution_count": 18,
     "metadata": {},
     "output_type": "execute_result"
    }
   ],
   "source": [
    "bins = pd.IntervalIndex.from_tuples([(0,9),(9,14),(14,19),(19,24),(24,29),(29,34),(34,39),(39,50)])\n",
    "df['bins'] = pd.cut(df.Age,bins=bins)\n",
    "ageGrp = df.groupby('bins')\n",
    "person_count = df.drop_duplicates('SN').groupby('bins').count().SN\n",
    "\n",
    "df_age_bins = pd.DataFrame({\n",
    "    'Purchase Count': ageGrp.count().SN,\n",
    "    'Average Purchase Price': ageGrp.mean().Price.apply(lambda x: f\"${x:.2f}\"),\n",
    "    'Total Purchase Value': ageGrp.sum().Price,\n",
    "    'Age Ranges': ['<10','10-14','15-19','20-24','25-29','30-34','35-39','40+']\n",
    "})\n",
    "df_age_bins['Avg Total Purchase per Person'] = df_age_bins['Total Purchase Value']/person_count\n",
    "df_age_bins.set_index('Age Ranges').style.format({\n",
    "    'Total Purchase Value': '${:,.2f}',\n",
    "    'Avg Total Purchase per Person': '${:.2f}'\n",
    "})"
   ]
  },
  {
   "cell_type": "markdown",
   "metadata": {},
   "source": [
    "-------------\n",
    "### 6. Top Spenders\n",
    "* Identify the the top 5 spenders in the game by total purchase value, then list (in a table):\n",
    "    * SN\n",
    "    * Purchase Count\n",
    "    * Average Purchase Price\n",
    "    * Total Purchase Value"
   ]
  },
  {
   "cell_type": "code",
   "execution_count": 7,
   "metadata": {},
   "outputs": [
    {
     "data": {
      "text/html": [
       "<style  type=\"text/css\" >\n",
       "</style><table id=\"T_254e2aa4_caed_11ea_8c42_4889e7427a24\" ><thead>    <tr>        <th class=\"blank level0\" ></th>        <th class=\"col_heading level0 col0\" >SN</th>        <th class=\"col_heading level0 col1\" >Purchase Count</th>        <th class=\"col_heading level0 col2\" >Average Purchase Price</th>        <th class=\"col_heading level0 col3\" >Total Purchase Value</th>    </tr></thead><tbody>\n",
       "                <tr>\n",
       "                        <th id=\"T_254e2aa4_caed_11ea_8c42_4889e7427a24level0_row0\" class=\"row_heading level0 row0\" >1</th>\n",
       "                        <td id=\"T_254e2aa4_caed_11ea_8c42_4889e7427a24row0_col0\" class=\"data row0 col0\" >Lisosia93</td>\n",
       "                        <td id=\"T_254e2aa4_caed_11ea_8c42_4889e7427a24row0_col1\" class=\"data row0 col1\" >5</td>\n",
       "                        <td id=\"T_254e2aa4_caed_11ea_8c42_4889e7427a24row0_col2\" class=\"data row0 col2\" >$3.79</td>\n",
       "                        <td id=\"T_254e2aa4_caed_11ea_8c42_4889e7427a24row0_col3\" class=\"data row0 col3\" >$18.96</td>\n",
       "            </tr>\n",
       "            <tr>\n",
       "                        <th id=\"T_254e2aa4_caed_11ea_8c42_4889e7427a24level0_row1\" class=\"row_heading level0 row1\" >2</th>\n",
       "                        <td id=\"T_254e2aa4_caed_11ea_8c42_4889e7427a24row1_col0\" class=\"data row1 col0\" >Idastidru52</td>\n",
       "                        <td id=\"T_254e2aa4_caed_11ea_8c42_4889e7427a24row1_col1\" class=\"data row1 col1\" >4</td>\n",
       "                        <td id=\"T_254e2aa4_caed_11ea_8c42_4889e7427a24row1_col2\" class=\"data row1 col2\" >$3.86</td>\n",
       "                        <td id=\"T_254e2aa4_caed_11ea_8c42_4889e7427a24row1_col3\" class=\"data row1 col3\" >$15.45</td>\n",
       "            </tr>\n",
       "            <tr>\n",
       "                        <th id=\"T_254e2aa4_caed_11ea_8c42_4889e7427a24level0_row2\" class=\"row_heading level0 row2\" >3</th>\n",
       "                        <td id=\"T_254e2aa4_caed_11ea_8c42_4889e7427a24row2_col0\" class=\"data row2 col0\" >Chamjask73</td>\n",
       "                        <td id=\"T_254e2aa4_caed_11ea_8c42_4889e7427a24row2_col1\" class=\"data row2 col1\" >3</td>\n",
       "                        <td id=\"T_254e2aa4_caed_11ea_8c42_4889e7427a24row2_col2\" class=\"data row2 col2\" >$4.61</td>\n",
       "                        <td id=\"T_254e2aa4_caed_11ea_8c42_4889e7427a24row2_col3\" class=\"data row2 col3\" >$13.83</td>\n",
       "            </tr>\n",
       "            <tr>\n",
       "                        <th id=\"T_254e2aa4_caed_11ea_8c42_4889e7427a24level0_row3\" class=\"row_heading level0 row3\" >4</th>\n",
       "                        <td id=\"T_254e2aa4_caed_11ea_8c42_4889e7427a24row3_col0\" class=\"data row3 col0\" >Iral74</td>\n",
       "                        <td id=\"T_254e2aa4_caed_11ea_8c42_4889e7427a24row3_col1\" class=\"data row3 col1\" >4</td>\n",
       "                        <td id=\"T_254e2aa4_caed_11ea_8c42_4889e7427a24row3_col2\" class=\"data row3 col2\" >$3.40</td>\n",
       "                        <td id=\"T_254e2aa4_caed_11ea_8c42_4889e7427a24row3_col3\" class=\"data row3 col3\" >$13.62</td>\n",
       "            </tr>\n",
       "            <tr>\n",
       "                        <th id=\"T_254e2aa4_caed_11ea_8c42_4889e7427a24level0_row4\" class=\"row_heading level0 row4\" >5</th>\n",
       "                        <td id=\"T_254e2aa4_caed_11ea_8c42_4889e7427a24row4_col0\" class=\"data row4 col0\" >Iskadarya95</td>\n",
       "                        <td id=\"T_254e2aa4_caed_11ea_8c42_4889e7427a24row4_col1\" class=\"data row4 col1\" >3</td>\n",
       "                        <td id=\"T_254e2aa4_caed_11ea_8c42_4889e7427a24row4_col2\" class=\"data row4 col2\" >$4.37</td>\n",
       "                        <td id=\"T_254e2aa4_caed_11ea_8c42_4889e7427a24row4_col3\" class=\"data row4 col3\" >$13.10</td>\n",
       "            </tr>\n",
       "    </tbody></table>"
      ],
      "text/plain": [
       "<pandas.io.formats.style.Styler at 0x207dbbdf320>"
      ]
     },
     "execution_count": 7,
     "metadata": {},
     "output_type": "execute_result"
    }
   ],
   "source": [
    "sn_group = df.groupby(by=\"SN\")\n",
    "top5 = sn_group['Price'].sum().nlargest(5).index\n",
    "top5\n",
    "\n",
    "df_top5 = pd.DataFrame(\n",
    "    [],\n",
    "    columns = [\"SN\",\"Purchase Count\",\"Average Purchase Price\",\"Total Purchase Value\"]\n",
    ")\n",
    "df_top5\n",
    "\n",
    "for index, user in enumerate(top5):\n",
    "    df_top5.loc[index+1,\"SN\"] = user\n",
    "    df_top5.loc[index+1,\"Purchase Count\"] = sn_group.get_group(user)[\"Purchase ID\"].count()\n",
    "    df_top5.loc[index+1,\"Average Purchase Price\"] = sn_group.get_group(user)[\"Price\"].mean()\n",
    "    df_top5.loc[index+1,\"Total Purchase Value\"] = sn_group.get_group(user)[\"Price\"].sum()\n",
    "    \n",
    "df_top5.style.format({\"Average Purchase Price\":\"${:.2f}\",\"Total Purchase Value\":\"${:.2f}\"})"
   ]
  },
  {
   "cell_type": "markdown",
   "metadata": {},
   "source": [
    "--------\n",
    "### 7. Most Popular Items\n",
    "* Identify the 5 most popular items by purchase count, then list (in a table):\n",
    "    * Item ID\n",
    "    * Item Name\n",
    "    * Purchase Count\n",
    "    * Item Price\n",
    "    * Total Purchase Value"
   ]
  },
  {
   "cell_type": "code",
   "execution_count": 8,
   "metadata": {},
   "outputs": [
    {
     "data": {
      "text/html": [
       "<style  type=\"text/css\" >\n",
       "</style><table id=\"T_25555840_caed_11ea_bda2_4889e7427a24\" ><thead>    <tr>        <th class=\"blank level0\" ></th>        <th class=\"col_heading level0 col0\" >Item ID</th>        <th class=\"col_heading level0 col1\" >Item Name</th>        <th class=\"col_heading level0 col2\" >Purchase Count</th>        <th class=\"col_heading level0 col3\" >Item Price</th>        <th class=\"col_heading level0 col4\" >Total Purchase Value</th>    </tr></thead><tbody>\n",
       "                <tr>\n",
       "                        <th id=\"T_25555840_caed_11ea_bda2_4889e7427a24level0_row0\" class=\"row_heading level0 row0\" >1</th>\n",
       "                        <td id=\"T_25555840_caed_11ea_bda2_4889e7427a24row0_col0\" class=\"data row0 col0\" >92</td>\n",
       "                        <td id=\"T_25555840_caed_11ea_bda2_4889e7427a24row0_col1\" class=\"data row0 col1\" >Final Critic</td>\n",
       "                        <td id=\"T_25555840_caed_11ea_bda2_4889e7427a24row0_col2\" class=\"data row0 col2\" >13</td>\n",
       "                        <td id=\"T_25555840_caed_11ea_bda2_4889e7427a24row0_col3\" class=\"data row0 col3\" >$4.88, $4.19</td>\n",
       "                        <td id=\"T_25555840_caed_11ea_bda2_4889e7427a24row0_col4\" class=\"data row0 col4\" >$59.99</td>\n",
       "            </tr>\n",
       "            <tr>\n",
       "                        <th id=\"T_25555840_caed_11ea_bda2_4889e7427a24level0_row1\" class=\"row_heading level0 row1\" >2</th>\n",
       "                        <td id=\"T_25555840_caed_11ea_bda2_4889e7427a24row1_col0\" class=\"data row1 col0\" >178</td>\n",
       "                        <td id=\"T_25555840_caed_11ea_bda2_4889e7427a24row1_col1\" class=\"data row1 col1\" >Oathbreaker, Last Hope of the Breaking Storm</td>\n",
       "                        <td id=\"T_25555840_caed_11ea_bda2_4889e7427a24row1_col2\" class=\"data row1 col2\" >12</td>\n",
       "                        <td id=\"T_25555840_caed_11ea_bda2_4889e7427a24row1_col3\" class=\"data row1 col3\" >$4.23</td>\n",
       "                        <td id=\"T_25555840_caed_11ea_bda2_4889e7427a24row1_col4\" class=\"data row1 col4\" >$50.76</td>\n",
       "            </tr>\n",
       "            <tr>\n",
       "                        <th id=\"T_25555840_caed_11ea_bda2_4889e7427a24level0_row2\" class=\"row_heading level0 row2\" >3</th>\n",
       "                        <td id=\"T_25555840_caed_11ea_bda2_4889e7427a24row2_col0\" class=\"data row2 col0\" >145</td>\n",
       "                        <td id=\"T_25555840_caed_11ea_bda2_4889e7427a24row2_col1\" class=\"data row2 col1\" >Fiery Glass Crusader</td>\n",
       "                        <td id=\"T_25555840_caed_11ea_bda2_4889e7427a24row2_col2\" class=\"data row2 col2\" >9</td>\n",
       "                        <td id=\"T_25555840_caed_11ea_bda2_4889e7427a24row2_col3\" class=\"data row2 col3\" >$4.58</td>\n",
       "                        <td id=\"T_25555840_caed_11ea_bda2_4889e7427a24row2_col4\" class=\"data row2 col4\" >$41.22</td>\n",
       "            </tr>\n",
       "            <tr>\n",
       "                        <th id=\"T_25555840_caed_11ea_bda2_4889e7427a24level0_row3\" class=\"row_heading level0 row3\" >4</th>\n",
       "                        <td id=\"T_25555840_caed_11ea_bda2_4889e7427a24row3_col0\" class=\"data row3 col0\" >132</td>\n",
       "                        <td id=\"T_25555840_caed_11ea_bda2_4889e7427a24row3_col1\" class=\"data row3 col1\" >Persuasion</td>\n",
       "                        <td id=\"T_25555840_caed_11ea_bda2_4889e7427a24row3_col2\" class=\"data row3 col2\" >9</td>\n",
       "                        <td id=\"T_25555840_caed_11ea_bda2_4889e7427a24row3_col3\" class=\"data row3 col3\" >$3.19, $3.33</td>\n",
       "                        <td id=\"T_25555840_caed_11ea_bda2_4889e7427a24row3_col4\" class=\"data row3 col4\" >$28.99</td>\n",
       "            </tr>\n",
       "            <tr>\n",
       "                        <th id=\"T_25555840_caed_11ea_bda2_4889e7427a24level0_row4\" class=\"row_heading level0 row4\" >5</th>\n",
       "                        <td id=\"T_25555840_caed_11ea_bda2_4889e7427a24row4_col0\" class=\"data row4 col0\" >108</td>\n",
       "                        <td id=\"T_25555840_caed_11ea_bda2_4889e7427a24row4_col1\" class=\"data row4 col1\" >Extraction, Quickblade Of Trembling Hands</td>\n",
       "                        <td id=\"T_25555840_caed_11ea_bda2_4889e7427a24row4_col2\" class=\"data row4 col2\" >9</td>\n",
       "                        <td id=\"T_25555840_caed_11ea_bda2_4889e7427a24row4_col3\" class=\"data row4 col3\" >$3.53</td>\n",
       "                        <td id=\"T_25555840_caed_11ea_bda2_4889e7427a24row4_col4\" class=\"data row4 col4\" >$31.77</td>\n",
       "            </tr>\n",
       "    </tbody></table>"
      ],
      "text/plain": [
       "<pandas.io.formats.style.Styler at 0x207dbbfd400>"
      ]
     },
     "execution_count": 8,
     "metadata": {},
     "output_type": "execute_result"
    }
   ],
   "source": [
    "item_group = df.groupby(by=\"Item ID\")\n",
    "top5_items = df.groupby(by=\"Item ID\").count().sort_values(by=\"Purchase ID\",ascending=False).head().reset_index()['Item ID']\n",
    "\n",
    "df_top5_items = pd.DataFrame(\n",
    "    data = [],\n",
    "    columns = ['Item ID','Item Name','Purchase Count','Item Price','Total Purchase Value']\n",
    ")  \n",
    "\n",
    "for index, item in enumerate(top5_items):\n",
    "    df_top5_items.loc[index+1, 'Item ID'] = item\n",
    "    df_top5_items.loc[index+1, 'Item Name'] = item_group.get_group(item).reset_index().loc[0,'Item Name'] \n",
    "    df_top5_items.loc[index+1, 'Purchase Count'] = item_group.get_group(item).count()[0]\n",
    "    df_top5_items.loc[index+1, 'Item Price'] = \", \".join([f\"${x}\" for x in item_group.get_group(item).reset_index()['Price'].unique()])\n",
    "    df_top5_items.loc[index+1, 'Total Purchase Value'] = item_group.get_group(item).reset_index()['Price'].sum()\n",
    "    \n",
    "df_top5_items.style.format({\"Total Purchase Value\": \"${:.2f}\"})"
   ]
  },
  {
   "cell_type": "markdown",
   "metadata": {},
   "source": [
    "---------\n",
    "### 8. Most Profitable Items\n",
    "* Sort the above table by total purchase value in descending order\n",
    "* Optional: give the displayed data cleaner formatting\n",
    "* Display a preview of the data frame"
   ]
  },
  {
   "cell_type": "code",
   "execution_count": 9,
   "metadata": {},
   "outputs": [
    {
     "data": {
      "text/html": [
       "<style  type=\"text/css\" >\n",
       "</style><table id=\"T_257b736e_caed_11ea_b6e0_4889e7427a24\" ><thead>    <tr>        <th class=\"blank level0\" ></th>        <th class=\"col_heading level0 col0\" >Item ID</th>        <th class=\"col_heading level0 col1\" >Total Purchase Value</th>        <th class=\"col_heading level0 col2\" >Item Name</th>        <th class=\"col_heading level0 col3\" >Purchase Count</th>        <th class=\"col_heading level0 col4\" >Item Price</th>    </tr></thead><tbody>\n",
       "                <tr>\n",
       "                        <th id=\"T_257b736e_caed_11ea_b6e0_4889e7427a24level0_row0\" class=\"row_heading level0 row0\" >0</th>\n",
       "                        <td id=\"T_257b736e_caed_11ea_b6e0_4889e7427a24row0_col0\" class=\"data row0 col0\" >92</td>\n",
       "                        <td id=\"T_257b736e_caed_11ea_b6e0_4889e7427a24row0_col1\" class=\"data row0 col1\" >$59.99</td>\n",
       "                        <td id=\"T_257b736e_caed_11ea_b6e0_4889e7427a24row0_col2\" class=\"data row0 col2\" >Final Critic</td>\n",
       "                        <td id=\"T_257b736e_caed_11ea_b6e0_4889e7427a24row0_col3\" class=\"data row0 col3\" >13</td>\n",
       "                        <td id=\"T_257b736e_caed_11ea_b6e0_4889e7427a24row0_col4\" class=\"data row0 col4\" >$4.88, $4.19</td>\n",
       "            </tr>\n",
       "            <tr>\n",
       "                        <th id=\"T_257b736e_caed_11ea_b6e0_4889e7427a24level0_row1\" class=\"row_heading level0 row1\" >1</th>\n",
       "                        <td id=\"T_257b736e_caed_11ea_b6e0_4889e7427a24row1_col0\" class=\"data row1 col0\" >178</td>\n",
       "                        <td id=\"T_257b736e_caed_11ea_b6e0_4889e7427a24row1_col1\" class=\"data row1 col1\" >$50.76</td>\n",
       "                        <td id=\"T_257b736e_caed_11ea_b6e0_4889e7427a24row1_col2\" class=\"data row1 col2\" >Oathbreaker, Last Hope of the Breaking Storm</td>\n",
       "                        <td id=\"T_257b736e_caed_11ea_b6e0_4889e7427a24row1_col3\" class=\"data row1 col3\" >12</td>\n",
       "                        <td id=\"T_257b736e_caed_11ea_b6e0_4889e7427a24row1_col4\" class=\"data row1 col4\" >$4.23</td>\n",
       "            </tr>\n",
       "            <tr>\n",
       "                        <th id=\"T_257b736e_caed_11ea_b6e0_4889e7427a24level0_row2\" class=\"row_heading level0 row2\" >2</th>\n",
       "                        <td id=\"T_257b736e_caed_11ea_b6e0_4889e7427a24row2_col0\" class=\"data row2 col0\" >82</td>\n",
       "                        <td id=\"T_257b736e_caed_11ea_b6e0_4889e7427a24row2_col1\" class=\"data row2 col1\" >$44.10</td>\n",
       "                        <td id=\"T_257b736e_caed_11ea_b6e0_4889e7427a24row2_col2\" class=\"data row2 col2\" >Nirvana</td>\n",
       "                        <td id=\"T_257b736e_caed_11ea_b6e0_4889e7427a24row2_col3\" class=\"data row2 col3\" >9</td>\n",
       "                        <td id=\"T_257b736e_caed_11ea_b6e0_4889e7427a24row2_col4\" class=\"data row2 col4\" >$4.90</td>\n",
       "            </tr>\n",
       "            <tr>\n",
       "                        <th id=\"T_257b736e_caed_11ea_b6e0_4889e7427a24level0_row3\" class=\"row_heading level0 row3\" >3</th>\n",
       "                        <td id=\"T_257b736e_caed_11ea_b6e0_4889e7427a24row3_col0\" class=\"data row3 col0\" >145</td>\n",
       "                        <td id=\"T_257b736e_caed_11ea_b6e0_4889e7427a24row3_col1\" class=\"data row3 col1\" >$41.22</td>\n",
       "                        <td id=\"T_257b736e_caed_11ea_b6e0_4889e7427a24row3_col2\" class=\"data row3 col2\" >Fiery Glass Crusader</td>\n",
       "                        <td id=\"T_257b736e_caed_11ea_b6e0_4889e7427a24row3_col3\" class=\"data row3 col3\" >9</td>\n",
       "                        <td id=\"T_257b736e_caed_11ea_b6e0_4889e7427a24row3_col4\" class=\"data row3 col4\" >$4.58</td>\n",
       "            </tr>\n",
       "            <tr>\n",
       "                        <th id=\"T_257b736e_caed_11ea_b6e0_4889e7427a24level0_row4\" class=\"row_heading level0 row4\" >4</th>\n",
       "                        <td id=\"T_257b736e_caed_11ea_b6e0_4889e7427a24row4_col0\" class=\"data row4 col0\" >103</td>\n",
       "                        <td id=\"T_257b736e_caed_11ea_b6e0_4889e7427a24row4_col1\" class=\"data row4 col1\" >$34.80</td>\n",
       "                        <td id=\"T_257b736e_caed_11ea_b6e0_4889e7427a24row4_col2\" class=\"data row4 col2\" >Singed Scalpel</td>\n",
       "                        <td id=\"T_257b736e_caed_11ea_b6e0_4889e7427a24row4_col3\" class=\"data row4 col3\" >8</td>\n",
       "                        <td id=\"T_257b736e_caed_11ea_b6e0_4889e7427a24row4_col4\" class=\"data row4 col4\" >$4.35</td>\n",
       "            </tr>\n",
       "            <tr>\n",
       "                        <th id=\"T_257b736e_caed_11ea_b6e0_4889e7427a24level0_row5\" class=\"row_heading level0 row5\" >5</th>\n",
       "                        <td id=\"T_257b736e_caed_11ea_b6e0_4889e7427a24row5_col0\" class=\"data row5 col0\" >59</td>\n",
       "                        <td id=\"T_257b736e_caed_11ea_b6e0_4889e7427a24row5_col1\" class=\"data row5 col1\" >$33.84</td>\n",
       "                        <td id=\"T_257b736e_caed_11ea_b6e0_4889e7427a24row5_col2\" class=\"data row5 col2\" >Lightning, Etcher of the King</td>\n",
       "                        <td id=\"T_257b736e_caed_11ea_b6e0_4889e7427a24row5_col3\" class=\"data row5 col3\" >8</td>\n",
       "                        <td id=\"T_257b736e_caed_11ea_b6e0_4889e7427a24row5_col4\" class=\"data row5 col4\" >$4.23</td>\n",
       "            </tr>\n",
       "            <tr>\n",
       "                        <th id=\"T_257b736e_caed_11ea_b6e0_4889e7427a24level0_row6\" class=\"row_heading level0 row6\" >6</th>\n",
       "                        <td id=\"T_257b736e_caed_11ea_b6e0_4889e7427a24row6_col0\" class=\"data row6 col0\" >108</td>\n",
       "                        <td id=\"T_257b736e_caed_11ea_b6e0_4889e7427a24row6_col1\" class=\"data row6 col1\" >$31.77</td>\n",
       "                        <td id=\"T_257b736e_caed_11ea_b6e0_4889e7427a24row6_col2\" class=\"data row6 col2\" >Extraction, Quickblade Of Trembling Hands</td>\n",
       "                        <td id=\"T_257b736e_caed_11ea_b6e0_4889e7427a24row6_col3\" class=\"data row6 col3\" >9</td>\n",
       "                        <td id=\"T_257b736e_caed_11ea_b6e0_4889e7427a24row6_col4\" class=\"data row6 col4\" >$3.53</td>\n",
       "            </tr>\n",
       "            <tr>\n",
       "                        <th id=\"T_257b736e_caed_11ea_b6e0_4889e7427a24level0_row7\" class=\"row_heading level0 row7\" >7</th>\n",
       "                        <td id=\"T_257b736e_caed_11ea_b6e0_4889e7427a24row7_col0\" class=\"data row7 col0\" >78</td>\n",
       "                        <td id=\"T_257b736e_caed_11ea_b6e0_4889e7427a24row7_col1\" class=\"data row7 col1\" >$30.80</td>\n",
       "                        <td id=\"T_257b736e_caed_11ea_b6e0_4889e7427a24row7_col2\" class=\"data row7 col2\" >Glimmer, Ender of the Moon</td>\n",
       "                        <td id=\"T_257b736e_caed_11ea_b6e0_4889e7427a24row7_col3\" class=\"data row7 col3\" >7</td>\n",
       "                        <td id=\"T_257b736e_caed_11ea_b6e0_4889e7427a24row7_col4\" class=\"data row7 col4\" >$4.40</td>\n",
       "            </tr>\n",
       "            <tr>\n",
       "                        <th id=\"T_257b736e_caed_11ea_b6e0_4889e7427a24level0_row8\" class=\"row_heading level0 row8\" >8</th>\n",
       "                        <td id=\"T_257b736e_caed_11ea_b6e0_4889e7427a24row8_col0\" class=\"data row8 col0\" >72</td>\n",
       "                        <td id=\"T_257b736e_caed_11ea_b6e0_4889e7427a24row8_col1\" class=\"data row8 col1\" >$30.16</td>\n",
       "                        <td id=\"T_257b736e_caed_11ea_b6e0_4889e7427a24row8_col2\" class=\"data row8 col2\" >Winter's Bite</td>\n",
       "                        <td id=\"T_257b736e_caed_11ea_b6e0_4889e7427a24row8_col3\" class=\"data row8 col3\" >8</td>\n",
       "                        <td id=\"T_257b736e_caed_11ea_b6e0_4889e7427a24row8_col4\" class=\"data row8 col4\" >$3.77</td>\n",
       "            </tr>\n",
       "            <tr>\n",
       "                        <th id=\"T_257b736e_caed_11ea_b6e0_4889e7427a24level0_row9\" class=\"row_heading level0 row9\" >9</th>\n",
       "                        <td id=\"T_257b736e_caed_11ea_b6e0_4889e7427a24row9_col0\" class=\"data row9 col0\" >132</td>\n",
       "                        <td id=\"T_257b736e_caed_11ea_b6e0_4889e7427a24row9_col1\" class=\"data row9 col1\" >$28.99</td>\n",
       "                        <td id=\"T_257b736e_caed_11ea_b6e0_4889e7427a24row9_col2\" class=\"data row9 col2\" >Persuasion</td>\n",
       "                        <td id=\"T_257b736e_caed_11ea_b6e0_4889e7427a24row9_col3\" class=\"data row9 col3\" >9</td>\n",
       "                        <td id=\"T_257b736e_caed_11ea_b6e0_4889e7427a24row9_col4\" class=\"data row9 col4\" >$3.19, $3.33</td>\n",
       "            </tr>\n",
       "    </tbody></table>"
      ],
      "text/plain": [
       "<pandas.io.formats.style.Styler at 0x207dbc315f8>"
      ]
     },
     "execution_count": 9,
     "metadata": {},
     "output_type": "execute_result"
    }
   ],
   "source": [
    "df_profit = df.groupby(by=\"Item ID\").sum()['Price'].reset_index().rename(columns={\"Price\":\"Total Purchase Value\"}).sort_values(by=\"Total Purchase Value\",ascending=False).set_index(\"Item ID\")\n",
    "\n",
    "df_profit = df_profit.merge(df[[\"Item ID\",\"Item Name\"]].drop_duplicates(), how='inner', on=\"Item ID\")\n",
    "df_profit = df_profit.merge(item_group.count().rename(columns={'SN':'Purchase Count'})[['Purchase Count']], how=\"left\", on=\"Item ID\")\n",
    "\n",
    "df_profit[\"Item Price\"] = [''] * df_profit['Item ID'].size\n",
    "\n",
    "for index, item in enumerate(df_profit['Item ID']):\n",
    "    df_profit.loc[index,\"Item Price\"] = \", \".join(f\"${x:.2f}\" for x in item_group.get_group(item).reset_index()['Price'].unique())\n",
    "\n",
    "df_profit.head(10).style.format({\"Total Purchase Value\": \"${:.2f}\"})"
   ]
  },
  {
   "cell_type": "markdown",
   "metadata": {},
   "source": [
    "### Final Considerations\n",
    "##### Three (3) observable trends based on the data.\n",
    "    1. Males make up the majority of the target market\n",
    "    2. Age 20-24 has the most purchases as well as makes up the most gross profit.  Only one purchaser over age 45.\n",
    "    3. Even the the top spenders didn't spend more than $20."
   ]
  }
 ],
 "metadata": {
  "kernelspec": {
   "display_name": "Python 3",
   "language": "python",
   "name": "python3"
  },
  "language_info": {
   "codemirror_mode": {
    "name": "ipython",
    "version": 3
   },
   "file_extension": ".py",
   "mimetype": "text/x-python",
   "name": "python",
   "nbconvert_exporter": "python",
   "pygments_lexer": "ipython3",
   "version": "3.6.11"
  }
 },
 "nbformat": 4,
 "nbformat_minor": 4
}